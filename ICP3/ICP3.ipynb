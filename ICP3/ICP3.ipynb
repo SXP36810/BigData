{
  "nbformat": 4,
  "nbformat_minor": 0,
  "metadata": {
    "colab": {
      "provenance": []
    },
    "kernelspec": {
      "name": "python3",
      "display_name": "Python 3"
    },
    "language_info": {
      "name": "python"
    }
  },
  "cells": [
    {
      "cell_type": "code",
      "execution_count": null,
      "metadata": {
        "id": "DnRNzgaWHH_9"
      },
      "outputs": [],
      "source": [
        "#Mount Google Drive\n",
        "from google.colab import drive\n",
        "drive.mount('/content/drive')"
      ]
    },
    {
      "cell_type": "markdown",
      "source": [
        "#Q1"
      ],
      "metadata": {
        "id": "ic04iXq2Hwql"
      }
    },
    {
      "cell_type": "code",
      "source": [
        "import numpy as np\n",
        "\n",
        "# 1. Create random vector\n",
        "random_vector = np.random.randint(1, 21, 15)\n",
        "print(\"Original vector:\", random_vector)\n",
        "\n",
        "# 2. Reshape the array\n",
        "reshaped_array = random_vector.reshape(3, 5)\n",
        "print(\"\\nReshaped array:\\n\", reshaped_array)\n",
        "\n",
        "# 3. Print array shape\n",
        "print(\"\\nArray shape:\", reshaped_array.shape)\n",
        "\n",
        "# 4. Replace the max in each row by 0\n",
        "for row in reshaped_array:\n",
        "    row[row.argmax()] = 0\n",
        "print(\"\\nArray after replacing with 0:\\n\", reshaped_array)"
      ],
      "metadata": {
        "colab": {
          "base_uri": "https://localhost:8080/"
        },
        "id": "kVC9UrLSHyXg",
        "outputId": "de0b65e8-3ec6-4b2d-de16-c5de128e23d1"
      },
      "execution_count": null,
      "outputs": [
        {
          "output_type": "stream",
          "name": "stdout",
          "text": [
            "Original vector: [16  8 14 18 15 12  5  4 18 19  3  2 18  7  7]\n",
            "\n",
            "Reshaped array:\n",
            " [[16  8 14 18 15]\n",
            " [12  5  4 18 19]\n",
            " [ 3  2 18  7  7]]\n",
            "\n",
            "Array shape: (3, 5)\n",
            "\n",
            "Array after replacing with 0:\n",
            " [[16  8 14  0 15]\n",
            " [12  5  4 18  0]\n",
            " [ 3  2  0  7  7]]\n"
          ]
        }
      ]
    },
    {
      "cell_type": "markdown",
      "source": [
        "#Q2"
      ],
      "metadata": {
        "id": "rRfwPjuFH89M"
      }
    },
    {
      "cell_type": "code",
      "source": [
        "import numpy as np\n",
        "\n",
        "# Create a 2-dimensional array of size 4 x 3 with 4-byte integer elements\n",
        "array_2d = np.array([[1, 2, 3], [4, 5, 6], [7, 8, 9], [10, 11, 12]], dtype=np.int32)\n",
        "\n",
        "# Print the array\n",
        "print(\"Array:\\n\", array_2d)\n",
        "\n",
        "# Print the shape of the array\n",
        "print(\"\\nShape of the array:\", array_2d.shape)\n",
        "\n",
        "# Print the type of the array\n",
        "print(\"\\nType of the array:\", type(array_2d))\n",
        "\n",
        "# Print the data type of the array's elements\n",
        "print(\"\\nData type of the array's elements:\", array_2d.dtype)\n"
      ],
      "metadata": {
        "colab": {
          "base_uri": "https://localhost:8080/"
        },
        "id": "Xm6Tpf5pH-gn",
        "outputId": "53089a42-8a29-44cc-9037-441dd109a668"
      },
      "execution_count": null,
      "outputs": [
        {
          "output_type": "stream",
          "name": "stdout",
          "text": [
            "Array:\n",
            " [[ 1  2  3]\n",
            " [ 4  5  6]\n",
            " [ 7  8  9]\n",
            " [10 11 12]]\n",
            "\n",
            "Shape of the array: (4, 3)\n",
            "\n",
            "Type of the array: <class 'numpy.ndarray'>\n",
            "\n",
            "Data type of the array's elements: int32\n"
          ]
        }
      ]
    },
    {
      "cell_type": "markdown",
      "source": [
        "#Q3"
      ],
      "metadata": {
        "id": "WdYN3JUbIPc8"
      }
    },
    {
      "cell_type": "code",
      "source": [
        "def diagonal_sum(matrix):\n",
        "    # Use min to ensure we don't exceed the index for non-square matrices\n",
        "    return sum(matrix[i][i] for i in range(min(len(matrix), len(matrix[0]))))\n",
        "\n",
        "matrix = [[0, 1, 2],\n",
        "          [3, 4, 5]]\n",
        "\n",
        "print(diagonal_sum(matrix))\n"
      ],
      "metadata": {
        "colab": {
          "base_uri": "https://localhost:8080/"
        },
        "id": "58WF1B8jIT7-",
        "outputId": "0adea382-0776-42e5-81de-6dd79d49db77"
      },
      "execution_count": null,
      "outputs": [
        {
          "output_type": "stream",
          "name": "stdout",
          "text": [
            "4\n"
          ]
        }
      ]
    },
    {
      "cell_type": "markdown",
      "source": [
        "#Q4"
      ],
      "metadata": {
        "id": "7WpDu_zjIpSk"
      }
    },
    {
      "cell_type": "code",
      "source": [
        "import numpy as np\n",
        "\n",
        "# a. Create an array of odd and even numbers between 10 to 70:\n",
        "\n",
        "# Create an array of odd numbers\n",
        "odd_numbers = np.arange(11, 70, 2)\n",
        "print(\"Odd numbers:\", odd_numbers)\n",
        "\n",
        "# Create an array of even numbers\n",
        "even_numbers = np.arange(10, 70, 2)\n",
        "print(\"Even numbers:\", even_numbers)\n",
        "\n",
        "# b. Perform at least three element-wise mathematical operations:\n",
        "\n",
        "# Ensure the arrays have the same size\n",
        "if len(odd_numbers) > len(even_numbers):\n",
        "    odd_numbers = odd_numbers[:-1]\n",
        "elif len(odd_numbers) < len(even_numbers):\n",
        "    even_numbers = even_numbers[:-1]\n",
        "\n",
        "# Element-wise addition\n",
        "addition_result = odd_numbers + even_numbers\n",
        "print(\"\\nElement-wise addition result:\\n\", addition_result)\n",
        "\n",
        "# Element-wise subtraction\n",
        "subtraction_result = odd_numbers - even_numbers\n",
        "print(\"\\nElement-wise subtraction result:\\n\", subtraction_result)\n",
        "\n",
        "# Element-wise multiplication\n",
        "multiplication_result = odd_numbers * even_numbers\n",
        "print(\"\\nElement-wise multiplication result:\\n\", multiplication_result)\n",
        "\n",
        "# c. Sort a given array by row and column:\n",
        "\n",
        "array = np.array([[5.54, 3.38, 7.99],\n",
        "                 [3.54, 4.38, 6.99],\n",
        "                 [1.54, 2.39, 9.29]])\n",
        "\n",
        "# Sort by rows\n",
        "row_sorted_array = np.sort(array, axis=1)\n",
        "print(\"\\nArray sorted by rows:\\n\", row_sorted_array)\n",
        "\n",
        "# Sort by columns\n",
        "column_sorted_array = np.sort(array, axis=0)\n",
        "print(\"\\nArray sorted by columns:\\n\", column_sorted_array)\n"
      ],
      "metadata": {
        "colab": {
          "base_uri": "https://localhost:8080/"
        },
        "id": "_pWym_ozJlm3",
        "outputId": "a6220105-3b94-400f-d817-651882b6fe38"
      },
      "execution_count": null,
      "outputs": [
        {
          "output_type": "stream",
          "name": "stdout",
          "text": [
            "Odd numbers: [11 13 15 17 19 21 23 25 27 29 31 33 35 37 39 41 43 45 47 49 51 53 55 57\n",
            " 59 61 63 65 67 69]\n",
            "Even numbers: [10 12 14 16 18 20 22 24 26 28 30 32 34 36 38 40 42 44 46 48 50 52 54 56\n",
            " 58 60 62 64 66 68]\n",
            "\n",
            "Element-wise addition result:\n",
            " [ 21  25  29  33  37  41  45  49  53  57  61  65  69  73  77  81  85  89\n",
            "  93  97 101 105 109 113 117 121 125 129 133 137]\n",
            "\n",
            "Element-wise subtraction result:\n",
            " [1 1 1 1 1 1 1 1 1 1 1 1 1 1 1 1 1 1 1 1 1 1 1 1 1 1 1 1 1 1]\n",
            "\n",
            "Element-wise multiplication result:\n",
            " [ 110  156  210  272  342  420  506  600  702  812  930 1056 1190 1332\n",
            " 1482 1640 1806 1980 2162 2352 2550 2756 2970 3192 3422 3660 3906 4160\n",
            " 4422 4692]\n",
            "\n",
            "Array sorted by rows:\n",
            " [[3.38 5.54 7.99]\n",
            " [3.54 4.38 6.99]\n",
            " [1.54 2.39 9.29]]\n",
            "\n",
            "Array sorted by columns:\n",
            " [[1.54 2.39 6.99]\n",
            " [3.54 3.38 7.99]\n",
            " [5.54 4.38 9.29]]\n"
          ]
        }
      ]
    },
    {
      "cell_type": "markdown",
      "source": [
        "#Q5"
      ],
      "metadata": {
        "id": "ssyHI-XTMXWr"
      }
    },
    {
      "cell_type": "code",
      "source": [
        "import numpy as np\n",
        "\n",
        "# Declare the given array\n",
        "Array = np.array([[4, 2, np.nan, 1],\n",
        "                 [11, 12, 14, 9],\n",
        "                 [5, np.nan, 1, np.nan]])\n",
        "\n",
        "print(\"Original Array:\\n\", Array)\n",
        "\n",
        "# Check for missing values (nan)\n",
        "missing_data = np.isnan(Array)\n",
        "print(\"\\nMissing Data (Boolean output):\\n\", missing_data)\n"
      ],
      "metadata": {
        "colab": {
          "base_uri": "https://localhost:8080/"
        },
        "id": "7R_xP94LMZ7T",
        "outputId": "ab6817ae-fe37-4b36-dcb4-86d55804fcd9"
      },
      "execution_count": null,
      "outputs": [
        {
          "output_type": "stream",
          "name": "stdout",
          "text": [
            "Original Array:\n",
            " [[ 4.  2. nan  1.]\n",
            " [11. 12. 14.  9.]\n",
            " [ 5. nan  1. nan]]\n",
            "\n",
            "Missing Data (Boolean output):\n",
            " [[False False  True False]\n",
            " [False False False False]\n",
            " [False  True False  True]]\n"
          ]
        }
      ]
    }
  ]
}