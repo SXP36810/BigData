{
  "nbformat": 4,
  "nbformat_minor": 0,
  "metadata": {
    "colab": {
      "provenance": []
    },
    "kernelspec": {
      "name": "python3",
      "display_name": "Python 3"
    },
    "language_info": {
      "name": "python"
    }
  },
  "cells": [
    {
      "cell_type": "markdown",
      "source": [
        "#Q1"
      ],
      "metadata": {
        "id": "S1Wn0gEsCIIZ"
      }
    },
    {
      "cell_type": "code",
      "source": [
        "# List of student ages\n",
        "ages = [19, 22, 19, 24, 20, 25, 26, 24, 25, 24]\n",
        "\n",
        "# Sort the list\n",
        "ages.sort()\n",
        "print(\"Sorted Ages:\", ages)\n",
        "\n",
        "# Min and Max age\n",
        "min_age = ages[0]\n",
        "max_age = ages[-1]\n",
        "print(\"Min Age:\", min_age)\n",
        "print(\"Max Age:\", max_age)\n",
        "\n",
        "# Add the min age and the max age again to the list\n",
        "ages.append(min_age)\n",
        "ages.append(max_age)\n",
        "print(\"List after adding Min and Max age:\", ages)\n",
        "\n",
        "# Find the median age\n",
        "length = len(ages)\n",
        "if length % 2 == 0:  # Even number of items\n",
        "    median_age = (ages[length // 2 - 1] + ages[length // 2]) / 2\n",
        "else:  # Odd number of items\n",
        "    median_age = ages[length // 2]\n",
        "print(\"Median Age:\", median_age)\n",
        "\n",
        "# Find the average age\n",
        "average_age = sum(ages) / length\n",
        "print(\"Average Age:\", average_age)\n",
        "\n",
        "# Find the range of the ages\n",
        "range_of_ages = max_age - min_age\n",
        "print(\"Range of Ages:\", range_of_ages)\n"
      ],
      "metadata": {
        "colab": {
          "base_uri": "https://localhost:8080/"
        },
        "id": "Dn9jCIkMCKbb",
        "outputId": "6a83a30c-7f24-4bfa-9f7a-1b123d1f1b14"
      },
      "execution_count": null,
      "outputs": [
        {
          "output_type": "stream",
          "name": "stdout",
          "text": [
            "Sorted Ages: [19, 19, 20, 22, 24, 24, 24, 25, 25, 26]\n",
            "Min Age: 19\n",
            "Max Age: 26\n",
            "List after adding Min and Max age: [19, 19, 20, 22, 24, 24, 24, 25, 25, 26, 19, 26]\n",
            "Median Age: 24.0\n",
            "Average Age: 22.75\n",
            "Range of Ages: 7\n"
          ]
        }
      ]
    },
    {
      "cell_type": "markdown",
      "source": [
        "#Q2\n"
      ],
      "metadata": {
        "id": "AGZDkDOsGWW_"
      }
    },
    {
      "cell_type": "code",
      "source": [
        "# Create an empty dictionary called dog\n",
        "dog = {}\n",
        "\n",
        "# Add name, color, breed, legs, age to the dog dictionary\n",
        "dog['name'] = 'Leo'\n",
        "dog['color'] = 'White'\n",
        "dog['breed'] = 'Labrador'\n",
        "dog['legs'] = 4\n",
        "dog['age'] = 7\n",
        "print(\"Dog Dictionary:\", dog)\n",
        "\n",
        "# Create a student dictionary and add first_name, last_name, gender, age, marital status,\n",
        "# skills, country, city and address as keys for the dictionary\n",
        "student = {\n",
        "    'first_name': 'Soham',\n",
        "    'last_name': 'Patil',\n",
        "    'gender': 'Male',\n",
        "    'age': 22,\n",
        "    'marital_status': 'Single',\n",
        "    'skills': ['C#', 'Python'],\n",
        "    'country': 'United States Of America',\n",
        "    'city': 'Boston',\n",
        "    'address': '1 Greenwood Circle'\n",
        "}\n",
        "print(\"\\nStudent Dictionary:\", student)\n",
        "\n",
        "# Get the length of the student dictionary\n",
        "print(\"\\nLength of Student Dictionary:\", len(student))\n",
        "\n",
        "# Get the value of skills and check the data type\n",
        "skills = student['skills']\n",
        "print(\"\\nSkills:\", skills)\n",
        "print(\"Type of Skills:\", type(skills))\n",
        "\n",
        "# Modify the skills values\n",
        "skills.append('C#')\n",
        "skills.append('Python')\n",
        "print(\"\\nSkills:\", skills)\n",
        "\n",
        "# Get the dictionary keys as a list\n",
        "keys_list = list(student.keys())\n",
        "print(\"\\nKeys List:\", keys_list)\n",
        "\n",
        "# Get the dictionary values as a list\n",
        "values_list = list(student.values())\n",
        "print(\"\\nValues List:\", values_list)\n"
      ],
      "metadata": {
        "colab": {
          "base_uri": "https://localhost:8080/"
        },
        "id": "24NDtRgBGYNb",
        "outputId": "e68ae7f2-7bb3-4688-e9e3-1e04fe1c2d76"
      },
      "execution_count": null,
      "outputs": [
        {
          "output_type": "stream",
          "name": "stdout",
          "text": [
            "Dog Dictionary: {'name': 'Leo', 'color': 'White', 'breed': 'Labrador', 'legs': 4, 'age': 7}\n",
            "\n",
            "Student Dictionary: {'first_name': 'Soham', 'last_name': 'Patil', 'gender': 'Male', 'age': 22, 'marital_status': 'Single', 'skills': ['C#', 'Python'], 'country': 'United States Of America', 'city': 'Boston', 'address': '1 Greenwood Circle'}\n",
            "\n",
            "Length of Student Dictionary: 9\n",
            "\n",
            "Skills: ['C#', 'Python']\n",
            "Type of Skills: <class 'list'>\n",
            "\n",
            "Skills: ['C#', 'Python', 'C#', 'Python']\n",
            "\n",
            "Keys List: ['first_name', 'last_name', 'gender', 'age', 'marital_status', 'skills', 'country', 'city', 'address']\n",
            "\n",
            "Values List: ['Soham', 'Patil', 'Male', 22, 'Single', ['C#', 'Python', 'C#', 'Python'], 'United States Of America', 'Boston', '1 Greenwood Circle']\n"
          ]
        }
      ]
    },
    {
      "cell_type": "markdown",
      "source": [
        "#Q3"
      ],
      "metadata": {
        "id": "SMaegxlmKTuv"
      }
    },
    {
      "cell_type": "code",
      "source": [
        "# Given data\n",
        "it_companies = {'Facebook', 'Google', 'Microsoft', 'Apple', 'IBM', 'Oracle', 'Amazon'}\n",
        "A = {19, 22, 24, 20, 25, 26}\n",
        "B = {19, 22, 20, 25, 26, 24, 28, 27}\n",
        "age = [22, 19, 24, 25, 26, 24, 25, 24]\n",
        "\n",
        "# Find the length of the set it_companies\n",
        "print(len(it_companies))\n",
        "\n",
        "# Add 'Twitter' to it_companies\n",
        "it_companies.add('Twitter')\n",
        "print(it_companies)\n",
        "\n",
        "# Insert multiple IT companies at once to the set it_companies\n",
        "it_companies.update(['Snapchat', 'TikTok', 'Spotify'])\n",
        "print(it_companies)\n",
        "\n",
        "# Remove one of the companies from the set it_companies\n",
        "it_companies.remove('Snapchat')\n",
        "print(it_companies)\n",
        "\n",
        "# Difference between remove and discard:\n",
        "# `remove(x)` raises a KeyError if x is not present, while `discard(x)` does nothing.\n",
        "\n",
        "# Join A and B (Union)\n",
        "print(A.union(B))\n",
        "\n",
        "# Find A intersection B\n",
        "print(A.intersection(B))\n",
        "\n",
        "# Is A subset of B\n",
        "print(A.issubset(B))\n",
        "\n",
        "# Are A and B disjoint sets\n",
        "print(A.isdisjoint(B))\n",
        "\n",
        "# Join A with B and B with A (Both will give the same result as union is commutative)\n",
        "print(A.union(B))\n",
        "print(B.union(A))\n",
        "\n",
        "# What is the symmetric difference between A and B\n",
        "print(A.symmetric_difference(B))\n",
        "\n",
        "# Convert the ages to a set\n",
        "ages_set = set(age)\n",
        "print(\"Length of age list:\", len(age))\n",
        "print(\"Length of age set:\", len(ages_set))\n",
        "\n",
        "# Delete the set completely\n",
        "del it_companies\n",
        "print(it_companies)\n"
      ],
      "metadata": {
        "colab": {
          "base_uri": "https://localhost:8080/",
          "height": 456
        },
        "id": "8vmAz0HmKV9V",
        "outputId": "cc63f5f7-2993-4be5-bce7-506799c8e30b"
      },
      "execution_count": null,
      "outputs": [
        {
          "output_type": "stream",
          "name": "stdout",
          "text": [
            "7\n",
            "{'Google', 'Apple', 'Twitter', 'IBM', 'Oracle', 'Amazon', 'Microsoft', 'Facebook'}\n",
            "{'Facebook', 'TikTok', 'Amazon', 'Google', 'Snapchat', 'Spotify', 'IBM', 'Twitter', 'Oracle', 'Microsoft', 'Apple'}\n",
            "{'Facebook', 'TikTok', 'Amazon', 'Google', 'Spotify', 'IBM', 'Twitter', 'Oracle', 'Microsoft', 'Apple'}\n",
            "{19, 20, 22, 24, 25, 26, 27, 28}\n",
            "{19, 20, 22, 24, 25, 26}\n",
            "True\n",
            "False\n",
            "{19, 20, 22, 24, 25, 26, 27, 28}\n",
            "{19, 20, 22, 24, 25, 26, 27, 28}\n",
            "{27, 28}\n",
            "Length of age list: 8\n",
            "Length of age set: 5\n"
          ]
        },
        {
          "output_type": "error",
          "ename": "NameError",
          "evalue": "ignored",
          "traceback": [
            "\u001b[0;31m---------------------------------------------------------------------------\u001b[0m",
            "\u001b[0;31mNameError\u001b[0m                                 Traceback (most recent call last)",
            "\u001b[0;32m<ipython-input-15-910ac7485a56>\u001b[0m in \u001b[0;36m<cell line: 51>\u001b[0;34m()\u001b[0m\n\u001b[1;32m     49\u001b[0m \u001b[0;31m# Delete the set completely\u001b[0m\u001b[0;34m\u001b[0m\u001b[0;34m\u001b[0m\u001b[0m\n\u001b[1;32m     50\u001b[0m \u001b[0;32mdel\u001b[0m \u001b[0mit_companies\u001b[0m\u001b[0;34m\u001b[0m\u001b[0;34m\u001b[0m\u001b[0m\n\u001b[0;32m---> 51\u001b[0;31m \u001b[0mprint\u001b[0m\u001b[0;34m(\u001b[0m\u001b[0mit_companies\u001b[0m\u001b[0;34m)\u001b[0m\u001b[0;34m\u001b[0m\u001b[0;34m\u001b[0m\u001b[0m\n\u001b[0m",
            "\u001b[0;31mNameError\u001b[0m: name 'it_companies' is not defined"
          ]
        }
      ]
    },
    {
      "cell_type": "markdown",
      "source": [
        "#Q4"
      ],
      "metadata": {
        "id": "y2pLCudRMD9h"
      }
    },
    {
      "cell_type": "code",
      "source": [
        "class Employee:\n",
        "    # Data member to count the number of Employees\n",
        "    employee_count = 0\n",
        "    total_salary = 0\n",
        "\n",
        "    def __init__(self, name, family, salary, department):\n",
        "        self.name = name\n",
        "        self.family = family\n",
        "        self.salary = salary\n",
        "        self.department = department\n",
        "\n",
        "        # Increase employee count and add to total salary for average calculation\n",
        "        Employee.employee_count += 1\n",
        "        Employee.total_salary += salary\n",
        "\n",
        "    @classmethod\n",
        "    def average_salary(cls):\n",
        "        if cls.employee_count != 0:\n",
        "            return cls.total_salary / cls.employee_count\n",
        "        return 0\n",
        "\n",
        "class FulltimeEmployee(Employee):\n",
        "    # Inherits properties from Employee class\n",
        "    pass\n",
        "\n",
        "# Create instances of Fulltime Employee class and Employee class\n",
        "employee1 = Employee(\"Rahul\", \"Singh\", 50000, \"IT\")\n",
        "employee2 = FulltimeEmployee(\"Shruthika\", \"Tiwari\", 60000, \"HR\")\n",
        "\n",
        "# Calling their member functions\n",
        "print(f\"Average Salary: {Employee.average_salary()}\")\n",
        "\n",
        "print(f\"Employee Count: {Employee.employee_count}\")"
      ],
      "metadata": {
        "id": "mWgL8XXcMGD5",
        "colab": {
          "base_uri": "https://localhost:8080/"
        },
        "outputId": "21375542-fd1f-4fd1-de1b-5cd36758a5fb"
      },
      "execution_count": 16,
      "outputs": [
        {
          "output_type": "stream",
          "name": "stdout",
          "text": [
            "Average Salary: 55000.0\n",
            "Employee Count: 2\n"
          ]
        }
      ]
    }
  ]
}