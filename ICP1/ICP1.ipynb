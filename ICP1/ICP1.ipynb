{
  "nbformat": 4,
  "nbformat_minor": 0,
  "metadata": {
    "colab": {
      "provenance": []
    },
    "kernelspec": {
      "name": "python3",
      "display_name": "Python 3"
    },
    "language_info": {
      "name": "python"
    }
  },
  "cells": [
    {
      "cell_type": "code",
      "execution_count": 2,
      "metadata": {
        "colab": {
          "base_uri": "https://localhost:8080/"
        },
        "id": "zkhCcWxRByvJ",
        "outputId": "8837bf45-d05b-49c2-99bb-0180ae3ca3ee"
      },
      "outputs": [
        {
          "output_type": "stream",
          "name": "stdout",
          "text": [
            "Mounted at /content/drive\n"
          ]
        }
      ],
      "source": [
        "#Mount Google Drive\n",
        "from google.colab import drive\n",
        "drive.mount('/content/drive')"
      ]
    },
    {
      "cell_type": "code",
      "source": [
        "#input the string\n",
        "input_string = input(\"Enter the string\")\n",
        "#remove 2 characters\n",
        "modified_string = input_string[:-2]\n",
        "#reverse the resultant\n",
        "reversed_string = modified_string[::-1]\n",
        "#print the reverse resultant\n",
        "print(\"Modified and reversed string:\", reversed_string)\n"
      ],
      "metadata": {
        "colab": {
          "base_uri": "https://localhost:8080/"
        },
        "id": "6N8pYlz6C9J5",
        "outputId": "bf7ef18c-b002-4b51-a2bf-37e25e37b197"
      },
      "execution_count": 4,
      "outputs": [
        {
          "output_type": "stream",
          "name": "stdout",
          "text": [
            "Enter the stringPython\n",
            "Modified and reversed string: htyP\n"
          ]
        }
      ]
    },
    {
      "cell_type": "code",
      "source": [
        "#Take the users input\n",
        "num1 = int(input(\"Enter the first number: \"))\n",
        "num2 = int(input(\"Enter the second number: \"))\n",
        "# Perform the operation\n",
        "addition = num1 + num2\n",
        "subtraction = num1 - num2\n",
        "multiplication = num1 * num2\n",
        "#to check the num2 is not equal to 0\n",
        "if num2 != 0:\n",
        "    division = num1 / num2\n",
        "else:\n",
        "    division = \"Undefined\"\n",
        "#print the output\n",
        "print(\"Add:\", addition)\n",
        "print(\"Subtract:\", subtraction)\n",
        "print(\"Multiply:\", multiplication)\n",
        "print(\"Divide:\", division)\n"
      ],
      "metadata": {
        "colab": {
          "base_uri": "https://localhost:8080/"
        },
        "id": "JH0pxAFfEyCB",
        "outputId": "16a6f6a2-481a-41ca-ad57-d5f740691393"
      },
      "execution_count": 7,
      "outputs": [
        {
          "output_type": "stream",
          "name": "stdout",
          "text": [
            "Enter the first number: 5\n",
            "Enter the second number: 5\n",
            "Add: 10\n",
            "Subtract: 0\n",
            "Multiply: 25\n",
            "Divide: 1.0\n"
          ]
        }
      ]
    },
    {
      "cell_type": "code",
      "source": [
        "#input the sentence\n",
        "sentence = input(\"Enter a sentence: \")\n",
        "#replace every python word with pythons\n",
        "modified_sentence = sentence.replace('python', 'pythons')\n",
        "#print after replacing\n",
        "print(\"Modified sentence:\", modified_sentence)\n"
      ],
      "metadata": {
        "colab": {
          "base_uri": "https://localhost:8080/"
        },
        "id": "2riXdq45Fetq",
        "outputId": "71ad530e-978a-4efe-f1f0-dba3e6be951d"
      },
      "execution_count": 8,
      "outputs": [
        {
          "output_type": "stream",
          "name": "stdout",
          "text": [
            "Enter a sentence: I love playing with python\n",
            "Modified sentence: I love playing with pythons\n"
          ]
        }
      ]
    },
    {
      "cell_type": "code",
      "source": [
        "#input the score between 0-100\n",
        "score = float(input(\"Enter your class score: \"))\n",
        "#use if-else statements to clarify the grades\n",
        "if score >= 90 and score <= 100:\n",
        "    grade = 'A'\n",
        "elif score >= 80 and score < 90:\n",
        "    grade = 'B'\n",
        "elif score >= 70 and score < 80:\n",
        "    grade = 'C'\n",
        "elif score >= 60 and score < 70:\n",
        "    grade = 'D'\n",
        "else:\n",
        "    grade = 'F'\n",
        "#print the grade in alphabet\n",
        "print(\"Your letter grade is:\", grade)\n"
      ],
      "metadata": {
        "colab": {
          "base_uri": "https://localhost:8080/"
        },
        "id": "at7IqEi0GsW8",
        "outputId": "5afcb8ae-07d1-4937-cf14-fa2862a1ff41"
      },
      "execution_count": 10,
      "outputs": [
        {
          "output_type": "stream",
          "name": "stdout",
          "text": [
            "Enter your class score: 61.5\n",
            "Your letter grade is: D\n"
          ]
        }
      ]
    }
  ]
}